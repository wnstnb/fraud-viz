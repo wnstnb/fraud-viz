{
 "cells": [
  {
   "cell_type": "code",
   "execution_count": 2,
   "metadata": {},
   "outputs": [],
   "source": [
    "import pandas as pd\n",
    "import numpy as np\n",
    "import matplotlib.pyplot as plt\n",
    "import seaborn as sns\n",
    "import plotly.express as px\n",
    "import streamlit as st\n",
    "import os"
   ]
  },
  {
   "cell_type": "code",
   "execution_count": 9,
   "metadata": {},
   "outputs": [
    {
     "name": "stdout",
     "output_type": "stream",
     "text": [
      "['sample_submission.csv', 'test_identity.csv', 'test_transaction.csv', 'train_identity.csv', 'train_transaction.csv']\n",
      "DataFrame for sample_submission.csv:\n",
      "(506691, 2)\n",
      "DataFrame for test_identity.csv:\n",
      "(141907, 41)\n",
      "DataFrame for test_transaction.csv:\n",
      "(506691, 393)\n",
      "DataFrame for train_identity.csv:\n",
      "(144233, 41)\n",
      "DataFrame for train_transaction.csv:\n",
      "(590540, 394)\n"
     ]
    }
   ],
   "source": [
    "data_files = os.listdir(os.path.join(cwd, 'data'))\n",
    "print(data_files)\n",
    "dfs = {}\n",
    "\n",
    "# For each file in data_files, make into a dataframe and run df.head()\n",
    "\n",
    "for file in data_files:\n",
    "    file_path = os.path.join(cwd, 'data', file)\n",
    "    if file.endswith('.csv'):\n",
    "        fn = file.split('.csv')[0]\n",
    "        dfs[f'{fn}'] = pd.read_csv(file_path)\n",
    "        print(f\"DataFrame for {file}:\")\n",
    "        print(dfs[fn].shape)\n",
    "        # print(df.head())\n",
    "    elif file.endswith('.xlsx'):\n",
    "        df = pd.read_excel(file_path)\n",
    "        print(f\"DataFrame for {file}:\")\n",
    "        # print(df.head())\n",
    "    else:\n",
    "        print(f\"Unsupported file format for {file}\")\n"
   ]
  },
  {
   "cell_type": "code",
   "execution_count": 3,
   "metadata": {},
   "outputs": [],
   "source": [
    "cwd = os.getcwd()"
   ]
  },
  {
   "cell_type": "code",
   "execution_count": null,
   "metadata": {},
   "outputs": [],
   "source": []
  }
 ],
 "metadata": {
  "kernelspec": {
   "display_name": ".venv",
   "language": "python",
   "name": "python3"
  },
  "language_info": {
   "codemirror_mode": {
    "name": "ipython",
    "version": 3
   },
   "file_extension": ".py",
   "mimetype": "text/x-python",
   "name": "python",
   "nbconvert_exporter": "python",
   "pygments_lexer": "ipython3",
   "version": "3.12.3"
  }
 },
 "nbformat": 4,
 "nbformat_minor": 2
}
